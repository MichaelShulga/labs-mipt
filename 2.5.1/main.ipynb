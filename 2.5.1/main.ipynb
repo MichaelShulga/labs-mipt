{
 "cells": [
  {
   "cell_type": "code",
   "execution_count": 120,
   "metadata": {},
   "outputs": [],
   "source": [
    "import matplotlib.pyplot as plt\n",
    "import numpy as np\n",
    "import math\n",
    "import pandas as pd\n",
    "import pint\n",
    "from uncertainties import ufloat\n",
    "ureg = pint.UnitRegistry()"
   ]
  },
  {
   "cell_type": "code",
   "execution_count": 121,
   "metadata": {},
   "outputs": [],
   "source": [
    "rho = ufloat(1000, 1e-3) * ureg.kg / ureg.m ** 3\n",
    "g = ufloat(9.81, 0.01) * ureg.m / ureg.s ** 2"
   ]
  },
  {
   "cell_type": "code",
   "execution_count": 122,
   "metadata": {},
   "outputs": [],
   "source": [
    "def get_dP(N_data):\n",
    "    std_N = math.hypot(np.std(N_data), 1)  # TODO\n",
    "    N = ufloat(np.mean(N_data), std_N)\n",
    "    dP = 9.8067 * N * 0.2 * 0.991 * ureg.Pa\n",
    "    return dP"
   ]
  },
  {
   "cell_type": "markdown",
   "metadata": {},
   "source": [
    "1. Проверьте герметичность установки. Для этого заполните аспиратор водой. Чистую сухую иглу установите в сосуд со спиртом так, чтобы кончик иглы лишь касался поверхности спирта. Плотно закройте обе колбы В и Е пробками. Откройте кран К1 аспиратора и добейтесь пробулькивания пузырьков воздуха в колбе. Замерьте показания микроманометра. Закройте кран К1. Наблюдайте за показаниями манометра: при отсутствии течи в установке столбик спирта в манометре будет неподвижен. При наличии течи следует обратиться к преподавателю или лаборанту. "
   ]
  },
  {
   "cell_type": "markdown",
   "metadata": {},
   "source": [
    "2. Убедившись в герметичности системы, начните измерения. Откройте кран К1. Подберите частоту падения капель из аспиратора так, чтобы максимальное давление манометра не зависело от этой частоты (не чаще, чем 1 капля в 5 секунд). "
   ]
  },
  {
   "cell_type": "markdown",
   "metadata": {},
   "source": [
    "3. Измерьте максимальное давление $\\Delta P_{спирт}$  при  пробулькивании пузырьков воздуха через спирт. По разбросу результатов оцените случайную погрешность измерения. Пользуясь табличным значением коэффициента поверхностного натяжения спирта, определите по формуле (1) диаметр иглы. Сравните полученный результат с диаметром иглы, измеренным по микроскопу. "
   ]
  },
  {
   "cell_type": "code",
   "execution_count": 123,
   "metadata": {},
   "outputs": [
    {
     "data": {
      "text/html": [
       "91.7+/-2.1 pascal"
      ],
      "text/latex": [
       "$91.7+/-2.1\\ \\mathrm{pascal}$"
      ],
      "text/plain": [
       "91.742070768+/-2.0934159781079527 <Unit('pascal')>"
      ]
     },
     "execution_count": 123,
     "metadata": {},
     "output_type": "execute_result"
    }
   ],
   "source": [
    "N_data = np.array([47, 48, 47, 47, 47])  # TODO\n",
    "dP = get_dP(N_data)\n",
    "dP"
   ]
  },
  {
   "cell_type": "code",
   "execution_count": 124,
   "metadata": {},
   "outputs": [
    {
     "data": {
      "text/html": [
       "0.992+/-0.023 millimeter"
      ],
      "text/latex": [
       "$0.992+/-0.023\\ \\mathrm{millimeter}$"
      ],
      "text/plain": [
       "0.9919113361864637+/-0.022633923811140284 <Unit('millimeter')>"
      ]
     },
     "execution_count": 124,
     "metadata": {},
     "output_type": "execute_result"
    }
   ],
   "source": [
    "sigma_theor = 22.75 * 1e-3 * ureg.J / ureg.m ** 2\n",
    "d = 4 * sigma_theor / dP\n",
    "d = d.to(ureg.mm)\n",
    "d"
   ]
  },
  {
   "cell_type": "markdown",
   "metadata": {},
   "source": [
    "4. Перенесите предварительно промытую и просушенную от спирта иглу в колбу с дистиллированной водой. Измерьте максимальное давление $Р_1$ при пробулькивании пузырьков, когда игла лишь касается поверхности воды. Аспиратор должен быть предварительно  заполнен водой почти доверху. Отрегулируйте скорость поднятия уровня спирта в манометре и сохраняйте её в течение всех экспериментов. Измерьте расстояние между верхним концом иглы и любой неподвижной часть прибора $h_1$. "
   ]
  },
  {
   "cell_type": "code",
   "execution_count": 125,
   "metadata": {},
   "outputs": [
    {
     "data": {
      "text/html": [
       "271.7+/-2.1 pascal"
      ],
      "text/latex": [
       "$271.7+/-2.1\\ \\mathrm{pascal}$"
      ],
      "text/plain": [
       "271.727574012+/-2.0934159781079527 <Unit('pascal')>"
      ]
     },
     "execution_count": 125,
     "metadata": {},
     "output_type": "execute_result"
    }
   ],
   "source": [
    "N1_data = np.array([140, 139, 140, 140, 140])  # TODO\n",
    "P1 = get_dP(N1_data)\n",
    "P1"
   ]
  },
  {
   "cell_type": "code",
   "execution_count": 126,
   "metadata": {},
   "outputs": [
    {
     "data": {
      "text/html": [
       "1.85+/-0.05 centimeter"
      ],
      "text/latex": [
       "$1.85+/-0.05\\ \\mathrm{centimeter}$"
      ],
      "text/plain": [
       "1.85+/-0.05 <Unit('centimeter')>"
      ]
     },
     "execution_count": 126,
     "metadata": {},
     "output_type": "execute_result"
    }
   ],
   "source": [
    "h1 = ufloat(1.85, 0.05) * ureg.cm  # TODO\n",
    "h1"
   ]
  },
  {
   "cell_type": "markdown",
   "metadata": {},
   "source": [
    "5. Утопите иглу до предела (между концом иглы и дном необходимо оставить небольшой зазор, чтобы образующийся пузырёк не касался дна). Измерьте $h_2$ (как в пункте 4). Измерьте максимальное давление в пузырьках $Р_2$. По разности давлений $\\Delta Р = Р_2 - Р_1$ определите глубину погружения $\\Delta h$ иглы и сравните с $\\Delta h = h_1 - h_2$."
   ]
  },
  {
   "cell_type": "code",
   "execution_count": 127,
   "metadata": {},
   "outputs": [
    {
     "data": {
      "text/html": [
       "396.5+/-1.9 pascal"
      ],
      "text/latex": [
       "$396.5+/-1.9\\ \\mathrm{pascal}$"
      ],
      "text/plain": [
       "396.51233976+/-1.94368794 <Unit('pascal')>"
      ]
     },
     "execution_count": 127,
     "metadata": {},
     "output_type": "execute_result"
    }
   ],
   "source": [
    "N2_data = np.array([204, 204, 204, 204, 204])  # TODO\n",
    "P2 = get_dP(N2_data)\n",
    "P2"
   ]
  },
  {
   "cell_type": "code",
   "execution_count": 128,
   "metadata": {},
   "outputs": [
    {
     "data": {
      "text/html": [
       "0.65+/-0.05 centimeter"
      ],
      "text/latex": [
       "$0.65+/-0.05\\ \\mathrm{centimeter}$"
      ],
      "text/plain": [
       "0.65+/-0.05 <Unit('centimeter')>"
      ]
     },
     "execution_count": 128,
     "metadata": {},
     "output_type": "execute_result"
    }
   ],
   "source": [
    "h2 = ufloat(0.65, 0.05) * ureg.cm  # TODO\n",
    "h2"
   ]
  },
  {
   "cell_type": "code",
   "execution_count": 129,
   "metadata": {},
   "outputs": [
    {
     "name": "stdout",
     "output_type": "stream",
     "text": [
      "1.272+/-0.029 centimeter - Теоретически\n",
      "1.20+/-0.07 centimeter - Экспериментально\n"
     ]
    }
   ],
   "source": [
    "print(((P2 - P1) / (rho * g)).to(ureg.cm), \"- Теоретически\")\n",
    "print(h1 - h2, \"- Экспериментально\")"
   ]
  },
  {
   "cell_type": "markdown",
   "metadata": {},
   "source": [
    "6. Снимите температурную зависимость $\\sigma(T)$ дистиллированной воды. Для этого включите термостат и подождите, пока нужная вам температура не стабилизируется. Следует заметить, что термометр показывает температуру воды в термостате. Время установления заданной температуры в колбе с исследуемой жидкостью довольно большое, поэтому после установления заданной температуры в термостате дождитесь прогрева исследуемой жидкости в колбе в течение нескольких минут (5-7 минут). После этого проведите измерение давления. Для уменьшения погрешности опыта замер давления  при фиксированной температуре следует проводить несколько раз. Проводить измерение температурной зависимости  рекомендуется в диапазоне  $200^{\\circ}C - 600^{\\circ}C$ через 50. Запрещается нагревать воду в термостате выше $600^{\\circ}C$. "
   ]
  },
  {
   "cell_type": "code",
   "execution_count": null,
   "metadata": {},
   "outputs": [],
   "source": []
  }
 ],
 "metadata": {
  "kernelspec": {
   "display_name": "Python 3",
   "language": "python",
   "name": "python3"
  },
  "language_info": {
   "codemirror_mode": {
    "name": "ipython",
    "version": 3
   },
   "file_extension": ".py",
   "mimetype": "text/x-python",
   "name": "python",
   "nbconvert_exporter": "python",
   "pygments_lexer": "ipython3",
   "version": "3.9.6"
  }
 },
 "nbformat": 4,
 "nbformat_minor": 2
}
