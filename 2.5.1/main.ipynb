{
 "cells": [
  {
   "cell_type": "code",
   "execution_count": 1,
   "metadata": {},
   "outputs": [
    {
     "name": "stderr",
     "output_type": "stream",
     "text": [
      "/var/folders/b0/r7cwq3l97dz61k8mlk7tswlc0000gn/T/ipykernel_12436/1614313458.py:2: DeprecationWarning: \n",
      "Pyarrow will become a required dependency of pandas in the next major release of pandas (pandas 3.0),\n",
      "(to allow more performant data types, such as the Arrow string type, and better interoperability with other libraries)\n",
      "but was not found to be installed on your system.\n",
      "If this would cause problems for you,\n",
      "please provide us feedback at https://github.com/pandas-dev/pandas/issues/54466\n",
      "        \n",
      "  import pandas as pd\n"
     ]
    }
   ],
   "source": [
    "import numpy as np\n",
    "import pandas as pd\n",
    "from scipy.optimize import curve_fit\n",
    "\n",
    "import matplotlib.pyplot as plt\n",
    "# plt.rcParams['lines.linewidth'] = 1.5\n",
    "# plt.rcParams['font.size'] = 9\n",
    "# plt.rcParams[\"figure.figsize\"] = (6.4, 4.8)\n",
    "plt.rcParams[\"axes.grid\"] = True\n",
    "plt.rcParams[\"grid.linestyle\"] = \"dotted\"\n",
    "plt.rcParams[\"errorbar.capsize\"] = 2\n",
    "plt.rcParams[\"savefig.dpi\"] = 200\n",
    "# plt.rcParams[\"savefig.savefig.format\"] = \"svg\"\n",
    "\n",
    "import pint\n",
    "from uncertainties import ufloat\n",
    "from uncertainties import unumpy\n",
    "ureg = pint.UnitRegistry()"
   ]
  },
  {
   "cell_type": "code",
   "execution_count": 2,
   "metadata": {},
   "outputs": [],
   "source": [
    "rho = ufloat(1000, 1e-3) * ureg.kg / ureg.m ** 3\n",
    "g = ufloat(9.81, 0.01) * ureg.m / ureg.s ** 2"
   ]
  },
  {
   "cell_type": "code",
   "execution_count": 3,
   "metadata": {},
   "outputs": [],
   "source": [
    "def get_dP(N_data):\n",
    "    std_N = np.hypot(np.std(N_data), 0.5)\n",
    "    N = ufloat(np.mean(N_data), std_N)\n",
    "    dP = 9.8067 * N * 0.2 * 0.991 * ureg.Pa\n",
    "    return dP"
   ]
  },
  {
   "cell_type": "markdown",
   "metadata": {},
   "source": [
    "1. Проверьте герметичность установки. Для этого заполните аспиратор водой. Чистую сухую иглу установите в сосуд со спиртом так, чтобы кончик иглы лишь касался поверхности спирта. Плотно закройте обе колбы В и Е пробками. Откройте кран К1 аспиратора и добейтесь пробулькивания пузырьков воздуха в колбе. Замерьте показания микроманометра. Закройте кран К1. Наблюдайте за показаниями манометра: при отсутствии течи в установке столбик спирта в манометре будет неподвижен. При наличии течи следует обратиться к преподавателю или лаборанту. "
   ]
  },
  {
   "cell_type": "markdown",
   "metadata": {},
   "source": [
    "2. Убедившись в герметичности системы, начните измерения. Откройте кран К1. Подберите частоту падения капель из аспиратора так, чтобы максимальное давление манометра не зависело от этой частоты (не чаще, чем 1 капля в 5 секунд). "
   ]
  },
  {
   "cell_type": "markdown",
   "metadata": {},
   "source": [
    "3. Измерьте максимальное давление $\\Delta P_{спирт}$  при  пробулькивании пузырьков воздуха через спирт. По разбросу результатов оцените случайную погрешность измерения. Пользуясь табличным значением коэффициента поверхностного натяжения спирта, определите по формуле (1) диаметр иглы. Сравните полученный результат с диаметром иглы, измеренным по микроскопу. "
   ]
  },
  {
   "cell_type": "code",
   "execution_count": 4,
   "metadata": {},
   "outputs": [
    {
     "data": {
      "text/html": [
       "84.0+/-1.2 pascal"
      ],
      "text/latex": [
       "$84.0+/-1.2\\ \\mathrm{pascal}$"
      ],
      "text/plain": [
       "83.967319008+/-1.2445675358619925 <Unit('pascal')>"
      ]
     },
     "execution_count": 4,
     "metadata": {},
     "output_type": "execute_result"
    }
   ],
   "source": [
    "N_data = np.array([43, 43, 44, 43, 43])\n",
    "dP = get_dP(N_data)\n",
    "dP"
   ]
  },
  {
   "cell_type": "code",
   "execution_count": 5,
   "metadata": {},
   "outputs": [
    {
     "data": {
      "text/html": [
       "1.084+/-0.016 millimeter"
      ],
      "text/latex": [
       "$1.084+/-0.016\\ \\mathrm{millimeter}$"
      ],
      "text/plain": [
       "1.083754978425951+/-0.016063467059716948 <Unit('millimeter')>"
      ]
     },
     "execution_count": 5,
     "metadata": {},
     "output_type": "execute_result"
    }
   ],
   "source": [
    "sigma_theor = 22.75 * 1e-3 * ureg.J / ureg.m ** 2\n",
    "d = 4 * sigma_theor / dP\n",
    "d = d.to(ureg.mm)\n",
    "d"
   ]
  },
  {
   "cell_type": "code",
   "execution_count": 6,
   "metadata": {},
   "outputs": [
    {
     "data": {
      "text/html": [
       "0.90+/-0.05 millimeter"
      ],
      "text/latex": [
       "$0.90+/-0.05\\ \\mathrm{millimeter}$"
      ],
      "text/plain": [
       "0.9+/-0.05 <Unit('millimeter')>"
      ]
     },
     "execution_count": 6,
     "metadata": {},
     "output_type": "execute_result"
    }
   ],
   "source": [
    "d_theor = ufloat(0.9 * 20 * 0.05, 0.05) * ureg.mm\n",
    "d_theor"
   ]
  },
  {
   "cell_type": "markdown",
   "metadata": {},
   "source": [
    "4. Перенесите предварительно промытую и просушенную от спирта иглу в колбу с дистиллированной водой. Измерьте максимальное давление $Р_1$ при пробулькивании пузырьков, когда игла лишь касается поверхности воды. Аспиратор должен быть предварительно  заполнен водой почти доверху. Отрегулируйте скорость поднятия уровня спирта в манометре и сохраняйте её в течение всех экспериментов. Измерьте расстояние между верхним концом иглы и любой неподвижной часть прибора $h_1$. "
   ]
  },
  {
   "cell_type": "code",
   "execution_count": 7,
   "metadata": {},
   "outputs": [
    {
     "data": {
      "text/html": [
       "230.1+/-1.4 pascal"
      ],
      "text/latex": [
       "$230.1+/-1.4\\ \\mathrm{pascal}$"
      ],
      "text/plain": [
       "230.13265209600002+/-1.360581558 <Unit('pascal')>"
      ]
     },
     "execution_count": 7,
     "metadata": {},
     "output_type": "execute_result"
    }
   ],
   "source": [
    "N1_data = np.array([118, 118, 118, 119, 119])\n",
    "P1 = get_dP(N1_data)\n",
    "P1"
   ]
  },
  {
   "cell_type": "code",
   "execution_count": 8,
   "metadata": {},
   "outputs": [
    {
     "data": {
      "text/html": [
       "2.00+/-0.10 centimeter"
      ],
      "text/latex": [
       "$2.00+/-0.10\\ \\mathrm{centimeter}$"
      ],
      "text/plain": [
       "2.0+/-0.1 <Unit('centimeter')>"
      ]
     },
     "execution_count": 8,
     "metadata": {},
     "output_type": "execute_result"
    }
   ],
   "source": [
    "h1 = ufloat(2, 0.1) * ureg.cm\n",
    "h1"
   ]
  },
  {
   "cell_type": "code",
   "execution_count": 9,
   "metadata": {},
   "outputs": [
    {
     "name": "stdout",
     "output_type": "stream",
     "text": [
      "Скорость поднятия 0.84375 / second\n"
     ]
    }
   ],
   "source": [
    "print(\"Скорость поднятия\", (119 - 105.5) / 16 / ureg.s)"
   ]
  },
  {
   "cell_type": "markdown",
   "metadata": {},
   "source": [
    "5. Утопите иглу до предела (между концом иглы и дном необходимо оставить небольшой зазор, чтобы образующийся пузырёк не касался дна). Измерьте $h_2$ (как в пункте 4). Измерьте максимальное давление в пузырьках $Р_2$. По разности давлений $\\Delta Р = Р_2 - Р_1$ определите глубину погружения $\\Delta h$ иглы и сравните с $\\Delta h = h_1 - h_2$."
   ]
  },
  {
   "cell_type": "code",
   "execution_count": 10,
   "metadata": {},
   "outputs": [
    {
     "data": {
      "text/html": [
       "392.4+/-1.4 pascal"
      ],
      "text/latex": [
       "$392.4+/-1.4\\ \\mathrm{pascal}$"
      ],
      "text/plain": [
       "392.430595086+/-1.360581558 <Unit('pascal')>"
      ]
     },
     "execution_count": 10,
     "metadata": {},
     "output_type": "execute_result"
    }
   ],
   "source": [
    "N2_data = np.array([201, 202, 202, 202, 202.5])\n",
    "P2 = get_dP(N2_data)\n",
    "P2"
   ]
  },
  {
   "cell_type": "code",
   "execution_count": 11,
   "metadata": {},
   "outputs": [
    {
     "data": {
      "text/html": [
       "0.30+/-0.10 centimeter"
      ],
      "text/latex": [
       "$0.30+/-0.10\\ \\mathrm{centimeter}$"
      ],
      "text/plain": [
       "0.3+/-0.1 <Unit('centimeter')>"
      ]
     },
     "execution_count": 11,
     "metadata": {},
     "output_type": "execute_result"
    }
   ],
   "source": [
    "h2 = ufloat(0.3, 0.1) * ureg.cm\n",
    "h2"
   ]
  },
  {
   "cell_type": "code",
   "execution_count": 12,
   "metadata": {},
   "outputs": [
    {
     "name": "stdout",
     "output_type": "stream",
     "text": [
      "1.654+/-0.020 centimeter - Теоретически\n",
      "1.70+/-0.14 centimeter - Экспериментально\n"
     ]
    }
   ],
   "source": [
    "print(((P2 - P1) / (rho * g)).to(ureg.cm), \"- Теоретически\")\n",
    "print(h1 - h2, \"- Экспериментально\")"
   ]
  },
  {
   "cell_type": "code",
   "execution_count": 13,
   "metadata": {},
   "outputs": [
    {
     "name": "stdout",
     "output_type": "stream",
     "text": [
      "167+/-14 pascal - Теоретически\n",
      "162.3+/-1.9 pascal - Экспериментально\n"
     ]
    }
   ],
   "source": [
    "print((rho * g * (h1 - h2)).to(ureg.Pa), \"- Теоретически\")\n",
    "print(P2 - P1, \"- Экспериментально\")"
   ]
  },
  {
   "cell_type": "markdown",
   "metadata": {},
   "source": [
    "6. Снимите температурную зависимость $\\sigma(T)$ дистиллированной воды. Для этого включите термостат и подождите, пока нужная вам температура не стабилизируется. Следует заметить, что термометр показывает температуру воды в термостате. Время установления заданной температуры в колбе с исследуемой жидкостью довольно большое, поэтому после установления заданной температуры в термостате дождитесь прогрева исследуемой жидкости в колбе в течение нескольких минут (5-7 минут). После этого проведите измерение давления. Для уменьшения погрешности опыта замер давления  при фиксированной температуре следует проводить несколько раз. Проводить измерение температурной зависимости  рекомендуется в диапазоне  $20^{\\circ}C - 60^{\\circ}C$ через $5^{\\circ}C$. Запрещается нагревать воду в термостате выше $60^{\\circ}C$. "
   ]
  },
  {
   "cell_type": "code",
   "execution_count": 14,
   "metadata": {},
   "outputs": [
    {
     "data": {
      "text/html": [
       "<div>\n",
       "<style scoped>\n",
       "    .dataframe tbody tr th:only-of-type {\n",
       "        vertical-align: middle;\n",
       "    }\n",
       "\n",
       "    .dataframe tbody tr th {\n",
       "        vertical-align: top;\n",
       "    }\n",
       "\n",
       "    .dataframe thead th {\n",
       "        text-align: right;\n",
       "    }\n",
       "</style>\n",
       "<table border=\"1\" class=\"dataframe\">\n",
       "  <thead>\n",
       "    <tr style=\"text-align: right;\">\n",
       "      <th></th>\n",
       "      <th>$T$, $^\\circ C$</th>\n",
       "      <th>$N_1$</th>\n",
       "      <th>$N_2$</th>\n",
       "      <th>$N_3$</th>\n",
       "      <th>$N_4$</th>\n",
       "      <th>$N_5$</th>\n",
       "    </tr>\n",
       "  </thead>\n",
       "  <tbody>\n",
       "    <tr>\n",
       "      <th>1</th>\n",
       "      <td>25.1</td>\n",
       "      <td>204.0</td>\n",
       "      <td>204.0</td>\n",
       "      <td>204.0</td>\n",
       "      <td>203.5</td>\n",
       "      <td>204.0</td>\n",
       "    </tr>\n",
       "    <tr>\n",
       "      <th>2</th>\n",
       "      <td>30.3</td>\n",
       "      <td>202.5</td>\n",
       "      <td>202.0</td>\n",
       "      <td>202.5</td>\n",
       "      <td>202.5</td>\n",
       "      <td>202.5</td>\n",
       "    </tr>\n",
       "    <tr>\n",
       "      <th>3</th>\n",
       "      <td>35.2</td>\n",
       "      <td>200.5</td>\n",
       "      <td>201.0</td>\n",
       "      <td>200.5</td>\n",
       "      <td>200.5</td>\n",
       "      <td>201.0</td>\n",
       "    </tr>\n",
       "    <tr>\n",
       "      <th>4</th>\n",
       "      <td>40.2</td>\n",
       "      <td>198.5</td>\n",
       "      <td>199.0</td>\n",
       "      <td>199.0</td>\n",
       "      <td>199.0</td>\n",
       "      <td>199.5</td>\n",
       "    </tr>\n",
       "    <tr>\n",
       "      <th>5</th>\n",
       "      <td>45.2</td>\n",
       "      <td>198.0</td>\n",
       "      <td>198.0</td>\n",
       "      <td>198.0</td>\n",
       "      <td>198.0</td>\n",
       "      <td>198.0</td>\n",
       "    </tr>\n",
       "    <tr>\n",
       "      <th>6</th>\n",
       "      <td>50.2</td>\n",
       "      <td>196.5</td>\n",
       "      <td>197.5</td>\n",
       "      <td>196.5</td>\n",
       "      <td>197.0</td>\n",
       "      <td>197.0</td>\n",
       "    </tr>\n",
       "    <tr>\n",
       "      <th>7</th>\n",
       "      <td>55.2</td>\n",
       "      <td>194.5</td>\n",
       "      <td>195.0</td>\n",
       "      <td>195.0</td>\n",
       "      <td>195.0</td>\n",
       "      <td>195.0</td>\n",
       "    </tr>\n",
       "    <tr>\n",
       "      <th>8</th>\n",
       "      <td>60.1</td>\n",
       "      <td>193.0</td>\n",
       "      <td>193.0</td>\n",
       "      <td>192.5</td>\n",
       "      <td>193.0</td>\n",
       "      <td>193.0</td>\n",
       "    </tr>\n",
       "  </tbody>\n",
       "</table>\n",
       "</div>"
      ],
      "text/plain": [
       "   $T$, $^\\circ C$  $N_1$  $N_2$  $N_3$  $N_4$  $N_5$\n",
       "1             25.1  204.0  204.0  204.0  203.5  204.0\n",
       "2             30.3  202.5  202.0  202.5  202.5  202.5\n",
       "3             35.2  200.5  201.0  200.5  200.5  201.0\n",
       "4             40.2  198.5  199.0  199.0  199.0  199.5\n",
       "5             45.2  198.0  198.0  198.0  198.0  198.0\n",
       "6             50.2  196.5  197.5  196.5  197.0  197.0\n",
       "7             55.2  194.5  195.0  195.0  195.0  195.0\n",
       "8             60.1  193.0  193.0  192.5  193.0  193.0"
      ]
     },
     "execution_count": 14,
     "metadata": {},
     "output_type": "execute_result"
    }
   ],
   "source": [
    "df_experiment = pd.read_excel('main.xlsx')\n",
    "df_experiment = df_experiment.drop(0)\n",
    "df_experiment"
   ]
  },
  {
   "cell_type": "markdown",
   "metadata": {},
   "source": [
    "7. Оцените погрешность измерения давления и температуры. Рассчитайте величину коэффициента поверхностного натяжения воды $\\sigma(T)$, используя значение диаметра иглы, полученное при измерениях на спирте (или измеренное на микроскопе). "
   ]
  },
  {
   "cell_type": "code",
   "execution_count": 15,
   "metadata": {},
   "outputs": [
    {
     "data": {
      "text/html": [
       "<div>\n",
       "<style scoped>\n",
       "    .dataframe tbody tr th:only-of-type {\n",
       "        vertical-align: middle;\n",
       "    }\n",
       "\n",
       "    .dataframe tbody tr th {\n",
       "        vertical-align: top;\n",
       "    }\n",
       "\n",
       "    .dataframe thead th {\n",
       "        text-align: right;\n",
       "    }\n",
       "</style>\n",
       "<table border=\"1\" class=\"dataframe\">\n",
       "  <thead>\n",
       "    <tr style=\"text-align: right;\">\n",
       "      <th></th>\n",
       "      <th>$T$, $^\\circ C$</th>\n",
       "      <th>$\\sigma$, $мН/м$</th>\n",
       "      <th>$\\sigma_{\\sigma}$, $мН/м$</th>\n",
       "    </tr>\n",
       "  </thead>\n",
       "  <tbody>\n",
       "    <tr>\n",
       "      <th>0</th>\n",
       "      <td>25.1</td>\n",
       "      <td>63.405093</td>\n",
       "      <td>1.111494</td>\n",
       "    </tr>\n",
       "    <tr>\n",
       "      <th>1</th>\n",
       "      <td>30.3</td>\n",
       "      <td>62.615162</td>\n",
       "      <td>1.101612</td>\n",
       "    </tr>\n",
       "    <tr>\n",
       "      <th>2</th>\n",
       "      <td>35.2</td>\n",
       "      <td>61.719907</td>\n",
       "      <td>1.092997</td>\n",
       "    </tr>\n",
       "    <tr>\n",
       "      <th>3</th>\n",
       "      <td>40.2</td>\n",
       "      <td>60.824653</td>\n",
       "      <td>1.087029</td>\n",
       "    </tr>\n",
       "    <tr>\n",
       "      <th>4</th>\n",
       "      <td>45.2</td>\n",
       "      <td>60.298032</td>\n",
       "      <td>1.067655</td>\n",
       "    </tr>\n",
       "    <tr>\n",
       "      <th>5</th>\n",
       "      <td>50.2</td>\n",
       "      <td>59.718750</td>\n",
       "      <td>1.078628</td>\n",
       "    </tr>\n",
       "    <tr>\n",
       "      <th>6</th>\n",
       "      <td>55.2</td>\n",
       "      <td>58.665509</td>\n",
       "      <td>1.052764</td>\n",
       "    </tr>\n",
       "    <tr>\n",
       "      <th>7</th>\n",
       "      <td>60.1</td>\n",
       "      <td>57.612269</td>\n",
       "      <td>1.039907</td>\n",
       "    </tr>\n",
       "  </tbody>\n",
       "</table>\n",
       "</div>"
      ],
      "text/plain": [
       "   $T$, $^\\circ C$  $\\sigma$, $мН/м$  $\\sigma_{\\sigma}$, $мН/м$\n",
       "0             25.1         63.405093                   1.111494\n",
       "1             30.3         62.615162                   1.101612\n",
       "2             35.2         61.719907                   1.092997\n",
       "3             40.2         60.824653                   1.087029\n",
       "4             45.2         60.298032                   1.067655\n",
       "5             50.2         59.718750                   1.078628\n",
       "6             55.2         58.665509                   1.052764\n",
       "7             60.1         57.612269                   1.039907"
      ]
     },
     "execution_count": 15,
     "metadata": {},
     "output_type": "execute_result"
    }
   ],
   "source": [
    "df_processed = pd.DataFrame(columns=['$T$, $^\\circ C$', '$\\sigma$, $мН/м$', '$\\sigma_{\\sigma}$, $мН/м$'])\n",
    "for i in range(len(df_experiment)):\n",
    "    T_i = df_experiment.iloc[i,0]\n",
    "    dP_i = get_dP(df_experiment.iloc[i, 1:6].to_numpy()) + (P1 - P2)\n",
    "    sigma_i = (dP_i * d / 4).to(ureg.mN / ureg.m)\n",
    "    df_processed.loc[i] = [T_i, sigma_i.m.n, sigma_i.m.s]\n",
    "df_processed"
   ]
  },
  {
   "cell_type": "markdown",
   "metadata": {},
   "source": [
    "8. Постройте график зависимости $\\sigma(T)$ и определите по графику температурный коэффициент $\\dfrac{d\\sigma}{dT}$. Оцените точность результата. "
   ]
  },
  {
   "cell_type": "code",
   "execution_count": 16,
   "metadata": {},
   "outputs": [
    {
     "data": {
      "image/png": "[encoded data removed]",
      "text/plain": [
       "<Figure size 640x480 with 1 Axes>"
      ]
     },
     "metadata": {},
     "output_type": "display_data"
    }
   ],
   "source": [
    "x_name = r\"$T$, $^\\circ C$\"\n",
    "y_name = r\"$\\sigma$, $мН/м$\"\n",
    "y_err_name = r\"$\\sigma_{\\sigma}$, $мН/м$\"\n",
    "\n",
    "x_data = df_processed[x_name]\n",
    "y_data = df_processed[y_name]\n",
    "y_err = df_processed[y_err_name]\n",
    "\n",
    "plt.xlabel(x_name)\n",
    "plt.ylabel(y_name)\n",
    "\n",
    "plt.errorbar(\n",
    "    x_data,\n",
    "    y_data,\n",
    "    yerr=y_err,\n",
    "    fmt=\".\",\n",
    "    label=\"Эксперимениальные точки\"\n",
    ")\n",
    "\n",
    "func = lambda x, k, b: k * x + b\n",
    "popt, pcov = curve_fit(func , xdata=x_data, ydata=y_data, sigma=y_err)\n",
    "perr = np.sqrt(np.diag(pcov))\n",
    "k = ufloat(popt[0], perr[0])\n",
    "plt.plot(\n",
    "    x_data,\n",
    "    func(x_data, *popt),\n",
    "    label=\"Наилучшая прямая\\n\" + fr\"$\\dfrac{{d\\sigma}}{{dT}}=({k:L})$ $\\dfrac{{мН}}{{^\\circ C \\cdot м}}$\"\n",
    ")\n",
    "\n",
    "plt.legend()\n",
    "plt.savefig(\"8\")"
   ]
  },
  {
   "cell_type": "markdown",
   "metadata": {},
   "source": [
    "9. На другом графике постройте зависимость от температуры \n",
    "\n",
    "    a) теплоты образования единицы поверхности жидкости $q=-T \\cdot \\dfrac{d\\sigma}{dT}$ и  \n",
    "\n",
    "    b) поверхностной энергии $U$ единицы площади $F$: $\\dfrac{U}{F}=(\\sigma -T \\cdot \\dfrac{d\\sigma}{dT})$.  "
   ]
  },
  {
   "cell_type": "code",
   "execution_count": 19,
   "metadata": {},
   "outputs": [
    {
     "data": {
      "image/png": "[encoded data removed]",
      "text/plain": [
       "<Figure size 640x480 with 1 Axes>"
      ]
     },
     "metadata": {},
     "output_type": "display_data"
    }
   ],
   "source": [
    "x_name = r\"$T$, $^\\circ C$\"\n",
    "y_name = r\"$мН/м$\"\n",
    "\n",
    "plt.xlabel(x_name)\n",
    "plt.ylabel(y_name)\n",
    "\n",
    "y_data_ufloat1 = -x_data * k\n",
    "plt.errorbar(\n",
    "    x_data,\n",
    "    unumpy.nominal_values(y_data_ufloat1),\n",
    "    yerr=unumpy.std_devs(y_data_ufloat1),\n",
    "    fmt='.-',\n",
    "    label=\"$q(T)$\"\n",
    ")\n",
    "\n",
    "y_data_ufloat2 = unumpy.uarray(y_data, y_err) - x_data * k\n",
    "plt.errorbar(\n",
    "    x_data,\n",
    "    unumpy.nominal_values(y_data_ufloat2),\n",
    "    yerr=unumpy.std_devs(y_data_ufloat2),\n",
    "    fmt='.-',\n",
    "    label=\"$\\dfrac{{U}}{{F}}(T)$\"\n",
    ")\n",
    "\n",
    "plt.legend()\n",
    "plt.savefig(\"9\")"
   ]
  },
  {
   "cell_type": "code",
   "execution_count": null,
   "metadata": {},
   "outputs": [],
   "source": []
  }
 ],
 "metadata": {
  "kernelspec": {
   "display_name": "Python 3",
   "language": "python",
   "name": "python3"
  },
  "language_info": {
   "codemirror_mode": {
    "name": "ipython",
    "version": 3
   },
   "file_extension": ".py",
   "mimetype": "text/x-python",
   "name": "python",
   "nbconvert_exporter": "python",
   "pygments_lexer": "ipython3",
   "version": "3.9.6"
  }
 },
 "nbformat": 4,
 "nbformat_minor": 2
}
