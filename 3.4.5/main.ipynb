{
 "cells": [
  {
   "cell_type": "code",
   "execution_count": 1,
   "metadata": {},
   "outputs": [],
   "source": [
    "from IPython.display import display, Math, Markdown, HTML\n",
    "\n",
    "from math import *\n",
    "import numpy as np\n",
    "import pandas as pd\n",
    "import scipy.stats\n",
    "from scipy.optimize import curve_fit\n",
    "\n",
    "import matplotlib.pyplot as plt\n",
    "# plt.rcParams[\"figure.figsize\"] = (8, 6)\n",
    "plt.rcParams[\"axes.grid\"] = True\n",
    "plt.rcParams[\"grid.linestyle\"] = \"dotted\"\n",
    "plt.rcParams[\"errorbar.capsize\"] = 2\n",
    "plt.rcParams[\"savefig.dpi\"] = 200\n",
    "# plt.rcParams[\"savefig.bbox\"] = \"tight\"\n",
    "# plt.rcParams[\"savefig.pad_inches\"] = 0.01\n",
    "plt.rcParams[\"savefig.format\"] = \"pdf\"\n",
    "\n",
    "# from uncertainties import unumpy as unp\n",
    "from uncertainties import ufloat\n",
    "# from uncertainties.unumpy import uarray\n",
    "from uncertainties.unumpy import nominal_values as unominal\n",
    "from uncertainties.unumpy import std_devs as ustdev\n",
    "\n",
    "def display_ufloat(uf, var=None, dim=None):\n",
    "    res = ''\n",
    "    if var is not None:\n",
    "        res += var + '='\n",
    "    res += f\"{uf:L}\"\n",
    "    if dim is not None:\n",
    "        res += ' \\\\ ' + dim\n",
    "    display(Math(res))"
   ]
  },
  {
   "cell_type": "markdown",
   "metadata": {},
   "source": [
    "<center><b>I. Измерение петли гистерезиса<b><center>"
   ]
  },
  {
   "cell_type": "code",
   "execution_count": 2,
   "metadata": {},
   "outputs": [
    {
     "data": {
      "text/html": [
       "<div>\n",
       "<style scoped>\n",
       "    .dataframe tbody tr th:only-of-type {\n",
       "        vertical-align: middle;\n",
       "    }\n",
       "\n",
       "    .dataframe tbody tr th {\n",
       "        vertical-align: top;\n",
       "    }\n",
       "\n",
       "    .dataframe thead th {\n",
       "        text-align: right;\n",
       "    }\n",
       "</style>\n",
       "<table border=\"1\" class=\"dataframe\">\n",
       "  <thead>\n",
       "    <tr style=\"text-align: right;\">\n",
       "      <th></th>\n",
       "      <th>I</th>\n",
       "      <th>K_X</th>\n",
       "      <th>K_Y</th>\n",
       "      <th>N_0</th>\n",
       "      <th>N_int</th>\n",
       "      <th>S</th>\n",
       "      <th>2piR</th>\n",
       "    </tr>\n",
       "  </thead>\n",
       "  <tbody>\n",
       "    <tr>\n",
       "      <th>0</th>\n",
       "      <td>216.2</td>\n",
       "      <td>0.05</td>\n",
       "      <td>0.10</td>\n",
       "      <td>35.0</td>\n",
       "      <td>220.0</td>\n",
       "      <td>3.8</td>\n",
       "      <td>24.0</td>\n",
       "    </tr>\n",
       "    <tr>\n",
       "      <th>1</th>\n",
       "      <td>175.6</td>\n",
       "      <td>0.02</td>\n",
       "      <td>0.02</td>\n",
       "      <td>40.0</td>\n",
       "      <td>400.0</td>\n",
       "      <td>3.0</td>\n",
       "      <td>25.0</td>\n",
       "    </tr>\n",
       "    <tr>\n",
       "      <th>2</th>\n",
       "      <td>917.2</td>\n",
       "      <td>0.10</td>\n",
       "      <td>0.10</td>\n",
       "      <td>40.0</td>\n",
       "      <td>400.0</td>\n",
       "      <td>1.2</td>\n",
       "      <td>10.0</td>\n",
       "    </tr>\n",
       "  </tbody>\n",
       "</table>\n",
       "</div>"
      ],
      "text/plain": [
       "       I   K_X   K_Y   N_0  N_int    S  2piR\n",
       "0  216.2  0.05  0.10  35.0  220.0  3.8  24.0\n",
       "1  175.6  0.02  0.02  40.0  400.0  3.0  25.0\n",
       "2  917.2  0.10  0.10  40.0  400.0  1.2  10.0"
      ]
     },
     "execution_count": 2,
     "metadata": {},
     "output_type": "execute_result"
    }
   ],
   "source": [
    "df = pd.DataFrame(columns=[\"I\", \"K_X\", \"K_Y\", \"N_0\", \"N_int\", \"S\", \"2piR\"])\n",
    "#                           мА  В/дел  В/дел   ед      ед   см^2   см\n",
    "\n",
    "df.loc[0] = [216.2, 0.05, 0.1, 35, 220, 3.8, 24]\n",
    "df.loc[1] = [175.6, 0.02, 0.02, 40, 400, 3.0, 25]\n",
    "df.loc[2] = [917.2, 0.1, 0.1, 40, 400, 1.2, 10]\n",
    "\n",
    "df"
   ]
  },
  {
   "cell_type": "markdown",
   "metadata": {},
   "source": [
    "<p float=\"left\">\n",
    "  <img src=\"images/img1.jpg\" width=\"475\" />\n",
    "  <img src=\"images/img2.jpg\" width=\"475\" /> \n",
    "  <img src=\"images/img3.jpg\" width=\"475\" />\n",
    "</p>"
   ]
  },
  {
   "cell_type": "code",
   "execution_count": 3,
   "metadata": {},
   "outputs": [],
   "source": [
    "df[\"2X_s\"] = 2 * np.array([2.6, 4.4, 3.5])\n",
    "df[\"2Y_s\"] = 2 * np.array([2.2, 2.1, 2.0])\n",
    "df[\"2X_c\"] = 2 * np.array([1.2, 0.6, 0.6])\n",
    "df[\"2Y_r\"] = 2 * np.array([2.1, 0.9, 0.9])"
   ]
  },
  {
   "cell_type": "markdown",
   "metadata": {},
   "source": [
    "$$\n",
    "H = \\frac{I N_0}{2 \\pi R}, \\ I = K_X / R_0\n",
    "$$"
   ]
  },
  {
   "cell_type": "code",
   "execution_count": 4,
   "metadata": {},
   "outputs": [],
   "source": [
    "R_0 = 0.3  # Ом\n",
    "I = df[\"K_X\"] / R_0  # А/дел\n",
    "df[\"H\"] = I * df[\"N_0\"] / (df[\"2piR\"] / 100)  # (А/м)/дел"
   ]
  },
  {
   "cell_type": "markdown",
   "metadata": {},
   "source": [
    "$$\n",
    "B = \\frac{R_и C_и}{S N_и}U_{вых}, \\ U_{вых} = K_Y\n",
    "$$"
   ]
  },
  {
   "cell_type": "code",
   "execution_count": 5,
   "metadata": {},
   "outputs": [],
   "source": [
    "R_int = 20  # кОм\n",
    "C_int = 20  # мкФ\n",
    "df[\"B\"] = (R_int * C_int / 1e3) / ((df[\"S\"] / 1e4) * df[\"N_int\"]) * df[\"K_X\"]  # (с/м^2*В)/дел = Тл/дел"
   ]
  },
  {
   "cell_type": "code",
   "execution_count": 6,
   "metadata": {},
   "outputs": [
    {
     "data": {
      "text/html": [
       "<div>\n",
       "<style scoped>\n",
       "    .dataframe tbody tr th:only-of-type {\n",
       "        vertical-align: middle;\n",
       "    }\n",
       "\n",
       "    .dataframe tbody tr th {\n",
       "        vertical-align: top;\n",
       "    }\n",
       "\n",
       "    .dataframe thead th {\n",
       "        text-align: right;\n",
       "    }\n",
       "</style>\n",
       "<table border=\"1\" class=\"dataframe\">\n",
       "  <thead>\n",
       "    <tr style=\"text-align: right;\">\n",
       "      <th></th>\n",
       "      <th>I</th>\n",
       "      <th>K_X</th>\n",
       "      <th>K_Y</th>\n",
       "      <th>N_0</th>\n",
       "      <th>N_int</th>\n",
       "      <th>S</th>\n",
       "      <th>2piR</th>\n",
       "      <th>2X_s</th>\n",
       "      <th>2Y_s</th>\n",
       "      <th>2X_c</th>\n",
       "      <th>2Y_r</th>\n",
       "      <th>H</th>\n",
       "      <th>B</th>\n",
       "    </tr>\n",
       "  </thead>\n",
       "  <tbody>\n",
       "    <tr>\n",
       "      <th>0</th>\n",
       "      <td>216.2</td>\n",
       "      <td>0.05</td>\n",
       "      <td>0.10</td>\n",
       "      <td>35.0</td>\n",
       "      <td>220.0</td>\n",
       "      <td>3.8</td>\n",
       "      <td>24.0</td>\n",
       "      <td>5.2</td>\n",
       "      <td>4.4</td>\n",
       "      <td>2.4</td>\n",
       "      <td>4.2</td>\n",
       "      <td>24.305556</td>\n",
       "      <td>0.239234</td>\n",
       "    </tr>\n",
       "    <tr>\n",
       "      <th>1</th>\n",
       "      <td>175.6</td>\n",
       "      <td>0.02</td>\n",
       "      <td>0.02</td>\n",
       "      <td>40.0</td>\n",
       "      <td>400.0</td>\n",
       "      <td>3.0</td>\n",
       "      <td>25.0</td>\n",
       "      <td>8.8</td>\n",
       "      <td>4.2</td>\n",
       "      <td>1.2</td>\n",
       "      <td>1.8</td>\n",
       "      <td>10.666667</td>\n",
       "      <td>0.066667</td>\n",
       "    </tr>\n",
       "    <tr>\n",
       "      <th>2</th>\n",
       "      <td>917.2</td>\n",
       "      <td>0.10</td>\n",
       "      <td>0.10</td>\n",
       "      <td>40.0</td>\n",
       "      <td>400.0</td>\n",
       "      <td>1.2</td>\n",
       "      <td>10.0</td>\n",
       "      <td>7.0</td>\n",
       "      <td>4.0</td>\n",
       "      <td>1.2</td>\n",
       "      <td>1.8</td>\n",
       "      <td>133.333333</td>\n",
       "      <td>0.833333</td>\n",
       "    </tr>\n",
       "  </tbody>\n",
       "</table>\n",
       "</div>"
      ],
      "text/plain": [
       "       I   K_X   K_Y   N_0  N_int    S  2piR  2X_s  2Y_s  2X_c  2Y_r  \\\n",
       "0  216.2  0.05  0.10  35.0  220.0  3.8  24.0   5.2   4.4   2.4   4.2   \n",
       "1  175.6  0.02  0.02  40.0  400.0  3.0  25.0   8.8   4.2   1.2   1.8   \n",
       "2  917.2  0.10  0.10  40.0  400.0  1.2  10.0   7.0   4.0   1.2   1.8   \n",
       "\n",
       "            H         B  \n",
       "0   24.305556  0.239234  \n",
       "1   10.666667  0.066667  \n",
       "2  133.333333  0.833333  "
      ]
     },
     "execution_count": 6,
     "metadata": {},
     "output_type": "execute_result"
    }
   ],
   "source": [
    "df"
   ]
  },
  {
   "cell_type": "markdown",
   "metadata": {},
   "source": [
    "<center><b>II. Проверка калибровки осциллографа<b><center>"
   ]
  },
  {
   "cell_type": "markdown",
   "metadata": {},
   "source": [
    "$$\n",
    "K_X = 2R_0\\sqrt{2}I_{ЭФ}/(2x) \\ \\ \\ \\ \\ \\ [В/дел]\n",
    "$$"
   ]
  },
  {
   "cell_type": "code",
   "execution_count": 7,
   "metadata": {},
   "outputs": [
    {
     "data": {
      "text/plain": [
       "(0.5, 0.09630794359760778)"
      ]
     },
     "execution_count": 7,
     "metadata": {},
     "output_type": "execute_result"
    }
   ],
   "source": [
    "x = 5  # дел\n",
    "I_ef = 1.135  # А\n",
    "K_x = 2 * R_0 * 2 ** 0.5 * I_ef / (2 * x)  # В/дел\n",
    "0.5, K_x  # В/дел"
   ]
  },
  {
   "cell_type": "code",
   "execution_count": 8,
   "metadata": {},
   "outputs": [
    {
     "data": {
      "text/plain": [
       "(0.05, 0.048960073529356544)"
      ]
     },
     "execution_count": 8,
     "metadata": {},
     "output_type": "execute_result"
    }
   ],
   "source": [
    "x = 5  # дел\n",
    "I_ef = 0.577  # А\n",
    "K_x = 2 * R_0 * 2 ** 0.5 * I_ef / (2 * x)  # В/дел\n",
    "0.05, K_x  # В/дел"
   ]
  },
  {
   "cell_type": "code",
   "execution_count": 9,
   "metadata": {},
   "outputs": [
    {
     "data": {
      "text/plain": [
       "(0.02, 0.0190070302782944)"
      ]
     },
     "execution_count": 9,
     "metadata": {},
     "output_type": "execute_result"
    }
   ],
   "source": [
    "x = 5  # дел\n",
    "I_ef = 0.224  # А\n",
    "K_x = 2 * R_0 * 2 ** 0.5 * I_ef / (2 * x)  # В/дел\n",
    "0.02, K_x  # В/дел"
   ]
  },
  {
   "cell_type": "markdown",
   "metadata": {},
   "source": [
    "$$\n",
    "K_Y = 2\\sqrt{2}U_{ЭФ}/(2y) \\ \\ \\ \\ \\ \\ [В/дел]\n",
    "$$"
   ]
  },
  {
   "cell_type": "code",
   "execution_count": 10,
   "metadata": {},
   "outputs": [
    {
     "data": {
      "text/plain": [
       "(0.1, 0.09263098833543773)"
      ]
     },
     "execution_count": 10,
     "metadata": {},
     "output_type": "execute_result"
    }
   ],
   "source": [
    "y = 2\n",
    "U_ef = 0.131  # В\n",
    "K_y = 2 ** 1.5 * U_ef / (2 * y)\n",
    "0.1, K_y  # В/дел"
   ]
  },
  {
   "cell_type": "markdown",
   "metadata": {},
   "source": [
    "<center><b>III. Определение &#964 — постоянной времени интегрирующей ячейки<b><center>"
   ]
  },
  {
   "cell_type": "markdown",
   "metadata": {},
   "source": [
    "$$\n",
    "\\tau = RC = U_{ВХ}/(\\omega U_{ВЫХ})\n",
    "$$"
   ]
  },
  {
   "cell_type": "code",
   "execution_count": 11,
   "metadata": {},
   "outputs": [
    {
     "data": {
      "text/plain": [
       "0.4"
      ]
     },
     "execution_count": 11,
     "metadata": {},
     "output_type": "execute_result"
    }
   ],
   "source": [
    "tau = R_int * C_int / 1000 # к * кОм * мкФ = м * В/А * Кл/В = к * м * с = c\n",
    "\n",
    "tau"
   ]
  },
  {
   "cell_type": "code",
   "execution_count": 12,
   "metadata": {},
   "outputs": [
    {
     "data": {
      "text/plain": [
       "0.4313647767938957"
      ]
     },
     "execution_count": 12,
     "metadata": {},
     "output_type": "execute_result"
    }
   ],
   "source": [
    "U_in = 3.93  # В\n",
    "U_out = 0.029  # В\n",
    "omega = 2 * pi * 50  # рад/с\n",
    "\n",
    "U_in / (omega * U_out)  # с"
   ]
  },
  {
   "cell_type": "markdown",
   "metadata": {},
   "source": [
    "$$\n",
    "R \\gg 1 / (\\omega C)\n",
    "$$"
   ]
  },
  {
   "cell_type": "code",
   "execution_count": 13,
   "metadata": {},
   "outputs": [
    {
     "data": {
      "text/plain": [
       "(20, 0.00015915494309189532)"
      ]
     },
     "execution_count": 13,
     "metadata": {},
     "output_type": "execute_result"
    }
   ],
   "source": [
    "R_int, 1 / (omega * C_int)"
   ]
  },
  {
   "cell_type": "markdown",
   "metadata": {},
   "source": [
    "<center><b>IV. Обработка результатов<b><center>"
   ]
  },
  {
   "cell_type": "code",
   "execution_count": 14,
   "metadata": {},
   "outputs": [
    {
     "data": {
      "text/html": [
       "<div>\n",
       "<style scoped>\n",
       "    .dataframe tbody tr th:only-of-type {\n",
       "        vertical-align: middle;\n",
       "    }\n",
       "\n",
       "    .dataframe tbody tr th {\n",
       "        vertical-align: top;\n",
       "    }\n",
       "\n",
       "    .dataframe thead th {\n",
       "        text-align: right;\n",
       "    }\n",
       "</style>\n",
       "<table border=\"1\" class=\"dataframe\">\n",
       "  <thead>\n",
       "    <tr style=\"text-align: right;\">\n",
       "      <th></th>\n",
       "      <th>I</th>\n",
       "      <th>K_X</th>\n",
       "      <th>K_Y</th>\n",
       "      <th>N_0</th>\n",
       "      <th>N_int</th>\n",
       "      <th>S</th>\n",
       "      <th>2piR</th>\n",
       "      <th>2X_s</th>\n",
       "      <th>2Y_s</th>\n",
       "      <th>2X_c</th>\n",
       "      <th>2Y_r</th>\n",
       "      <th>H</th>\n",
       "      <th>B</th>\n",
       "      <th>H_max</th>\n",
       "      <th>B_s</th>\n",
       "      <th>H_c</th>\n",
       "      <th>B_r</th>\n",
       "    </tr>\n",
       "  </thead>\n",
       "  <tbody>\n",
       "    <tr>\n",
       "      <th>0</th>\n",
       "      <td>216.2</td>\n",
       "      <td>0.05</td>\n",
       "      <td>0.10</td>\n",
       "      <td>35.0</td>\n",
       "      <td>220.0</td>\n",
       "      <td>3.8</td>\n",
       "      <td>24.0</td>\n",
       "      <td>5.2</td>\n",
       "      <td>4.4</td>\n",
       "      <td>2.4</td>\n",
       "      <td>4.2</td>\n",
       "      <td>24.305556</td>\n",
       "      <td>0.239234</td>\n",
       "      <td>63.194444</td>\n",
       "      <td>0.526316</td>\n",
       "      <td>29.166667</td>\n",
       "      <td>0.502392</td>\n",
       "    </tr>\n",
       "    <tr>\n",
       "      <th>1</th>\n",
       "      <td>175.6</td>\n",
       "      <td>0.02</td>\n",
       "      <td>0.02</td>\n",
       "      <td>40.0</td>\n",
       "      <td>400.0</td>\n",
       "      <td>3.0</td>\n",
       "      <td>25.0</td>\n",
       "      <td>8.8</td>\n",
       "      <td>4.2</td>\n",
       "      <td>1.2</td>\n",
       "      <td>1.8</td>\n",
       "      <td>10.666667</td>\n",
       "      <td>0.066667</td>\n",
       "      <td>46.933333</td>\n",
       "      <td>0.140000</td>\n",
       "      <td>6.400000</td>\n",
       "      <td>0.060000</td>\n",
       "    </tr>\n",
       "    <tr>\n",
       "      <th>2</th>\n",
       "      <td>917.2</td>\n",
       "      <td>0.10</td>\n",
       "      <td>0.10</td>\n",
       "      <td>40.0</td>\n",
       "      <td>400.0</td>\n",
       "      <td>1.2</td>\n",
       "      <td>10.0</td>\n",
       "      <td>7.0</td>\n",
       "      <td>4.0</td>\n",
       "      <td>1.2</td>\n",
       "      <td>1.8</td>\n",
       "      <td>133.333333</td>\n",
       "      <td>0.833333</td>\n",
       "      <td>466.666667</td>\n",
       "      <td>1.666667</td>\n",
       "      <td>80.000000</td>\n",
       "      <td>0.750000</td>\n",
       "    </tr>\n",
       "  </tbody>\n",
       "</table>\n",
       "</div>"
      ],
      "text/plain": [
       "       I   K_X   K_Y   N_0  N_int    S  2piR  2X_s  2Y_s  2X_c  2Y_r  \\\n",
       "0  216.2  0.05  0.10  35.0  220.0  3.8  24.0   5.2   4.4   2.4   4.2   \n",
       "1  175.6  0.02  0.02  40.0  400.0  3.0  25.0   8.8   4.2   1.2   1.8   \n",
       "2  917.2  0.10  0.10  40.0  400.0  1.2  10.0   7.0   4.0   1.2   1.8   \n",
       "\n",
       "            H         B       H_max       B_s        H_c       B_r  \n",
       "0   24.305556  0.239234   63.194444  0.526316  29.166667  0.502392  \n",
       "1   10.666667  0.066667   46.933333  0.140000   6.400000  0.060000  \n",
       "2  133.333333  0.833333  466.666667  1.666667  80.000000  0.750000  "
      ]
     },
     "execution_count": 14,
     "metadata": {},
     "output_type": "execute_result"
    }
   ],
   "source": [
    "df[\"H_max\"] = df[\"2X_s\"] / 2 * df[\"H\"]  # А/м\n",
    "df[\"B_s\"] = df[\"2Y_s\"] / 2 * df[\"B\"]  # Тл\n",
    "df[\"H_c\"] = df[\"2X_c\"] / 2 * df[\"H\"]  # А/м\n",
    "df[\"B_r\"] = df[\"2Y_r\"] / 2 * df[\"B\"]  # Тл\n",
    "\n",
    "df"
   ]
  },
  {
   "cell_type": "markdown",
   "metadata": {},
   "source": [
    "<p float=\"left\">\n",
    "  <img src=\"images/img1.jpg\" width=\"475\" />\n",
    "  <img src=\"images/img2.jpg\" width=\"475\" /> \n",
    "  <img src=\"images/img3.jpg\" width=\"475\" />\n",
    "</p>"
   ]
  },
  {
   "cell_type": "code",
   "execution_count": 15,
   "metadata": {},
   "outputs": [
    {
     "data": {
      "text/html": [
       "<div>\n",
       "<style scoped>\n",
       "    .dataframe tbody tr th:only-of-type {\n",
       "        vertical-align: middle;\n",
       "    }\n",
       "\n",
       "    .dataframe tbody tr th {\n",
       "        vertical-align: top;\n",
       "    }\n",
       "\n",
       "    .dataframe thead th {\n",
       "        text-align: right;\n",
       "    }\n",
       "</style>\n",
       "<table border=\"1\" class=\"dataframe\">\n",
       "  <thead>\n",
       "    <tr style=\"text-align: right;\">\n",
       "      <th></th>\n",
       "      <th>I</th>\n",
       "      <th>K_X</th>\n",
       "      <th>K_Y</th>\n",
       "      <th>N_0</th>\n",
       "      <th>N_int</th>\n",
       "      <th>S</th>\n",
       "      <th>2piR</th>\n",
       "      <th>2X_s</th>\n",
       "      <th>2Y_s</th>\n",
       "      <th>2X_c</th>\n",
       "      <th>...</th>\n",
       "      <th>H</th>\n",
       "      <th>B</th>\n",
       "      <th>H_max</th>\n",
       "      <th>B_s</th>\n",
       "      <th>H_c</th>\n",
       "      <th>B_r</th>\n",
       "      <th>dY/dX_нач</th>\n",
       "      <th>dY/dX_max</th>\n",
       "      <th>mu_нач</th>\n",
       "      <th>mu_max</th>\n",
       "    </tr>\n",
       "  </thead>\n",
       "  <tbody>\n",
       "    <tr>\n",
       "      <th>0</th>\n",
       "      <td>216.2</td>\n",
       "      <td>0.05</td>\n",
       "      <td>0.10</td>\n",
       "      <td>35.0</td>\n",
       "      <td>220.0</td>\n",
       "      <td>3.8</td>\n",
       "      <td>24.0</td>\n",
       "      <td>5.2</td>\n",
       "      <td>4.4</td>\n",
       "      <td>2.4</td>\n",
       "      <td>...</td>\n",
       "      <td>24.305556</td>\n",
       "      <td>0.239234</td>\n",
       "      <td>63.194444</td>\n",
       "      <td>0.526316</td>\n",
       "      <td>29.166667</td>\n",
       "      <td>0.502392</td>\n",
       "      <td>0.523810</td>\n",
       "      <td>2.750000</td>\n",
       "      <td>4102.812709</td>\n",
       "      <td>21539.766723</td>\n",
       "    </tr>\n",
       "    <tr>\n",
       "      <th>1</th>\n",
       "      <td>175.6</td>\n",
       "      <td>0.02</td>\n",
       "      <td>0.02</td>\n",
       "      <td>40.0</td>\n",
       "      <td>400.0</td>\n",
       "      <td>3.0</td>\n",
       "      <td>25.0</td>\n",
       "      <td>8.8</td>\n",
       "      <td>4.2</td>\n",
       "      <td>1.2</td>\n",
       "      <td>...</td>\n",
       "      <td>10.666667</td>\n",
       "      <td>0.066667</td>\n",
       "      <td>46.933333</td>\n",
       "      <td>0.140000</td>\n",
       "      <td>6.400000</td>\n",
       "      <td>0.060000</td>\n",
       "      <td>0.406250</td>\n",
       "      <td>1.052632</td>\n",
       "      <td>2020.521737</td>\n",
       "      <td>5235.359967</td>\n",
       "    </tr>\n",
       "    <tr>\n",
       "      <th>2</th>\n",
       "      <td>917.2</td>\n",
       "      <td>0.10</td>\n",
       "      <td>0.10</td>\n",
       "      <td>40.0</td>\n",
       "      <td>400.0</td>\n",
       "      <td>1.2</td>\n",
       "      <td>10.0</td>\n",
       "      <td>7.0</td>\n",
       "      <td>4.0</td>\n",
       "      <td>1.2</td>\n",
       "      <td>...</td>\n",
       "      <td>133.333333</td>\n",
       "      <td>0.833333</td>\n",
       "      <td>466.666667</td>\n",
       "      <td>1.666667</td>\n",
       "      <td>80.000000</td>\n",
       "      <td>0.750000</td>\n",
       "      <td>1.038462</td>\n",
       "      <td>1.666667</td>\n",
       "      <td>5164.883968</td>\n",
       "      <td>8289.319948</td>\n",
       "    </tr>\n",
       "  </tbody>\n",
       "</table>\n",
       "<p>3 rows × 21 columns</p>\n",
       "</div>"
      ],
      "text/plain": [
       "       I   K_X   K_Y   N_0  N_int    S  2piR  2X_s  2Y_s  2X_c  ...  \\\n",
       "0  216.2  0.05  0.10  35.0  220.0  3.8  24.0   5.2   4.4   2.4  ...   \n",
       "1  175.6  0.02  0.02  40.0  400.0  3.0  25.0   8.8   4.2   1.2  ...   \n",
       "2  917.2  0.10  0.10  40.0  400.0  1.2  10.0   7.0   4.0   1.2  ...   \n",
       "\n",
       "            H         B       H_max       B_s        H_c       B_r  dY/dX_нач  \\\n",
       "0   24.305556  0.239234   63.194444  0.526316  29.166667  0.502392   0.523810   \n",
       "1   10.666667  0.066667   46.933333  0.140000   6.400000  0.060000   0.406250   \n",
       "2  133.333333  0.833333  466.666667  1.666667  80.000000  0.750000   1.038462   \n",
       "\n",
       "   dY/dX_max       mu_нач        mu_max  \n",
       "0   2.750000  4102.812709  21539.766723  \n",
       "1   1.052632  2020.521737   5235.359967  \n",
       "2   1.666667  5164.883968   8289.319948  \n",
       "\n",
       "[3 rows x 21 columns]"
      ]
     },
     "execution_count": 15,
     "metadata": {},
     "output_type": "execute_result"
    }
   ],
   "source": [
    "df[\"dY/dX_нач\"] = [3.3/6.3, 1.3/3.2, 2.7/2.6]\n",
    "df[\"dY/dX_max\"] = [(12.5-9.2)/(9.2-8.0), (8.8-4.8)/(10.9-7.1), (4.7-2.7)/(3.8-2.6)]\n",
    "\n",
    "mu0 = 1.25663706212e-6  # Гн/м\n",
    "df[\"mu_нач\"] = df[\"dY/dX_нач\"] * df[\"B\"] / df[\"H\"] / mu0  # безразмерная величина\n",
    "df[\"mu_max\"] = df[\"dY/dX_max\"] * df[\"B\"] / df[\"H\"] / mu0  # безразмерная величина\n",
    "\n",
    "df"
   ]
  },
  {
   "cell_type": "code",
   "execution_count": 16,
   "metadata": {},
   "outputs": [
    {
     "data": {
      "text/markdown": [
       "\n",
       "<div style=\"display: flex; justify-content: space-around;\">\n",
       "\n",
       "<div style=\"width: 45%;\">\n",
       "<h3>Экспериментальные данные</h3>\n",
       "\n",
       "|                    |   Пермаллой (Fe-Ni) |   Кремнистое железо (Fe-Si) |   Феррит |\n",
       "|:-------------------|--------------------:|----------------------------:|---------:|\n",
       "| $H_c$, $А/м$       |           29.1667   |                    80       |     6.4  |\n",
       "| $B_s$, $Тл$        |            0.526316 |                     1.66667 |     0.14 |\n",
       "| $\\mu_{нач}$        |         4102.81     |                  5164.88    |  2020.52 |\n",
       "| $\\mu_{\\text{max}}$ |        21539.8      |                  8289.32    |  5235.36 |\n",
       "\n",
       "</div>\n",
       "\n",
       "<div style=\"width: 45%;\">\n",
       "<h3>Таблицчные данные</h3>\n",
       "\n",
       "|                    |   Пермаллой (Fe-Ni)            |   Кремнистое железо (Fe-Si) |   Феррит             |\n",
       "|:-------------------|-------------------------------:|----------------------------:|---------------------:|\n",
       "| $H_c$, $А/м$       |           1–5                  |                20–100       |    10–100            |\n",
       "| $B_s$, $Тл$        |           0.6–1.0              |                1.5–2.0      |    0.3–0.5           |\n",
       "| $\\mu_{нач}$        |      10,000–100,000            |            4,000–20,000     |  1,000–10,000        |\n",
       "| $\\mu_{\\text{max}}$ |     100,000–1,000,000          |           30,000–100,000    |  5,000–15,000        |\n",
       "\n",
       "</div>\n",
       "\n",
       "</div>\n",
       "\n"
      ],
      "text/plain": [
       "<IPython.core.display.Markdown object>"
      ]
     },
     "metadata": {},
     "output_type": "display_data"
    }
   ],
   "source": [
    "headers = [\"Пермаллой (Fe-Ni)\", \"Кремнистое железо (Fe-Si)\", \"Феррит\"]\n",
    "rows = [\"H_c\", \"B_s\", \"mu_нач\", \"mu_max\"]\n",
    "row_headers = [\"$H_c$, $А/м$\", \"$B_s$, $Тл$\", \"$\\mu_{нач}$\", r\"$\\mu_{\\text{max}}$\"]\n",
    "# display(Markdown(df[rows].T[[0, 2, 1]].to_markdown(headers=headers, index=row_headers)))\n",
    "\n",
    "table = r'''\n",
    "<div style=\"display: flex; justify-content: space-around;\">\n",
    "\n",
    "<div style=\"width: 45%;\">\n",
    "<h3>Экспериментальные данные</h3>\n",
    "\n",
    "''' + df[rows].T[[0, 2, 1]].to_markdown(headers=headers, index=row_headers) + '''\n",
    "\n",
    "</div>\n",
    "\n",
    "<div style=\"width: 45%;\">\n",
    "<h3>Таблицчные данные</h3>\n",
    "\n",
    "|                    |   Пермаллой (Fe-Ni)            |   Кремнистое железо (Fe-Si) |   Феррит             |\n",
    "|:-------------------|-------------------------------:|----------------------------:|---------------------:|\n",
    "| $H_c$, $А/м$       |           1–5                  |                20–100       |    10–100            |\n",
    "| $B_s$, $Тл$        |           0.6–1.0              |                1.5–2.0      |    0.3–0.5           |\n",
    "| $\\\\mu_{нач}$        |      10,000–100,000            |            4,000–20,000     |  1,000–10,000        |\n",
    "| $\\\\mu_{\\\\text{max}}$ |     100,000–1,000,000          |           30,000–100,000    |  5,000–15,000        |\n",
    "\n",
    "</div>\n",
    "\n",
    "</div>\n",
    "\n",
    "'''\n",
    "\n",
    "display(Markdown(table))"
   ]
  }
 ],
 "metadata": {
  "kernelspec": {
   "display_name": "Python 3",
   "language": "python",
   "name": "python3"
  },
  "language_info": {
   "codemirror_mode": {
    "name": "ipython",
    "version": 3
   },
   "file_extension": ".py",
   "mimetype": "text/x-python",
   "name": "python",
   "nbconvert_exporter": "python",
   "pygments_lexer": "ipython3",
   "version": "3.9.6"
  }
 },
 "nbformat": 4,
 "nbformat_minor": 2
}
